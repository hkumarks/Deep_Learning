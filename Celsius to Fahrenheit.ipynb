{
 "cells": [
  {
   "cell_type": "code",
   "execution_count": 1,
   "metadata": {},
   "outputs": [],
   "source": [
    "import tensorflow as tf"
   ]
  },
  {
   "cell_type": "code",
   "execution_count": 2,
   "metadata": {},
   "outputs": [],
   "source": [
    "import numpy as np"
   ]
  },
  {
   "cell_type": "code",
   "execution_count": 3,
   "metadata": {},
   "outputs": [],
   "source": [
    "import matplotlib.pyplot as plt\n",
    "import seaborn as sns\n",
    "%matplotlib inline"
   ]
  },
  {
   "cell_type": "code",
   "execution_count": 4,
   "metadata": {},
   "outputs": [],
   "source": [
    "c=np.array([-40,-10,0,8,15,22,38],dtype=float)\n",
    "f=np.array([-40,14,32,46,59,72,100],dtype=float)"
   ]
  },
  {
   "cell_type": "code",
   "execution_count": 5,
   "metadata": {},
   "outputs": [
    {
     "name": "stdout",
     "output_type": "stream",
     "text": [
      "Temp in celsius= -40.0, Temp in fahrenheit= -40.0\n",
      "Temp in celsius= -10.0, Temp in fahrenheit= 14.0\n",
      "Temp in celsius= 0.0, Temp in fahrenheit= 32.0\n",
      "Temp in celsius= 8.0, Temp in fahrenheit= 46.0\n",
      "Temp in celsius= 15.0, Temp in fahrenheit= 59.0\n",
      "Temp in celsius= 22.0, Temp in fahrenheit= 72.0\n",
      "Temp in celsius= 38.0, Temp in fahrenheit= 100.0\n"
     ]
    }
   ],
   "source": [
    "for i,e in enumerate(c):\n",
    "    print(f\"Temp in celsius= {e}, Temp in fahrenheit= {f[i]}\")"
   ]
  },
  {
   "cell_type": "code",
   "execution_count": 6,
   "metadata": {},
   "outputs": [],
   "source": [
    "l=tf.keras.layers.Dense(units=1,input_shape=[1])"
   ]
  },
  {
   "cell_type": "code",
   "execution_count": 8,
   "metadata": {},
   "outputs": [],
   "source": [
    "model=tf.keras.Sequential([l])\n",
    "# Unit-> no. of neuron in a layer\n",
    "# input_shape-> input dimension"
   ]
  },
  {
   "cell_type": "code",
   "execution_count": 9,
   "metadata": {},
   "outputs": [],
   "source": [
    "model.compile(loss='mean_squared_error',\n",
    "             optimizer=tf.keras.optimizers.Adam(0.1))\n",
    "# Learning rate range is from 0.1-0.001"
   ]
  },
  {
   "cell_type": "code",
   "execution_count": 10,
   "metadata": {},
   "outputs": [],
   "source": [
    "training=model.fit(c,f,epochs=500,verbose=False)"
   ]
  },
  {
   "cell_type": "code",
   "execution_count": 11,
   "metadata": {},
   "outputs": [
    {
     "data": {
      "text/plain": [
       "Text(0, 0.5, 'Los Magnitude')"
      ]
     },
     "execution_count": 11,
     "metadata": {},
     "output_type": "execute_result"
    },
    {
     "data": {
      "image/png": "[encoded data removed]",
      "text/plain": [
       "<Figure size 432x288 with 1 Axes>"
      ]
     },
     "metadata": {
      "needs_background": "light"
     },
     "output_type": "display_data"
    }
   ],
   "source": [
    "plt.plot(training.history['loss'])\n",
    "plt.xlabel('Epoch')\n",
    "plt.ylabel('Los Magnitude')"
   ]
  },
  {
   "cell_type": "code",
   "execution_count": 12,
   "metadata": {},
   "outputs": [
    {
     "name": "stdout",
     "output_type": "stream",
     "text": [
      "[[211.31667]]\n"
     ]
    }
   ],
   "source": [
    "print(model.predict([100.0]))"
   ]
  },
  {
   "cell_type": "code",
   "execution_count": 13,
   "metadata": {},
   "outputs": [
    {
     "name": "stdout",
     "output_type": "stream",
     "text": [
      "These are the layer variables (weights): [array([[1.8234584]], dtype=float32), array([28.970823], dtype=float32)]\n"
     ]
    }
   ],
   "source": [
    "print(\"These are the layer variables (weights): {}\".format(l.get_weights()))"
   ]
  },
  {
   "cell_type": "code",
   "execution_count": null,
   "metadata": {},
   "outputs": [],
   "source": []
  },
  {
   "cell_type": "code",
   "execution_count": 14,
   "metadata": {},
   "outputs": [
    {
     "name": "stdout",
     "output_type": "stream",
     "text": [
      "Finished training the model\n",
      "[[211.74745]]\n",
      "Model predicts that 100 degrees Celsius is: [[211.74745]] degrees Fahrenheit\n",
      "These are the l0 variables: [array([[-0.25737593, -0.5142032 ,  0.7521268 , -0.23057993]],\n",
      "      dtype=float32), array([ 0.46865544, -3.2315466 ,  3.463393  ,  2.8348083 ], dtype=float32)]\n",
      "These are the l1 variables: [array([[-0.3227968 , -0.13440458,  0.7980398 ,  0.56381017],\n",
      "       [ 0.56194437, -1.1651338 ,  0.0667991 , -0.0312023 ],\n",
      "       [-0.70067084,  0.27782995, -0.17626639,  1.169436  ],\n",
      "       [-0.15066093,  0.53515387, -0.62057346,  1.1983773 ]],\n",
      "      dtype=float32), array([-2.770821  ,  3.2974503 , -0.46045914,  3.1509411 ], dtype=float32)]\n",
      "These are the l2 variables: [array([[-0.53714603],\n",
      "       [ 1.1546075 ],\n",
      "       [-0.00918905],\n",
      "       [ 1.245035  ]], dtype=float32), array([3.2557826], dtype=float32)]\n"
     ]
    }
   ],
   "source": [
    "l0 = tf.keras.layers.Dense(units=4, input_shape=[1])\n",
    "l1 = tf.keras.layers.Dense(units=4)\n",
    "l2 = tf.keras.layers.Dense(units=1)\n",
    "model = tf.keras.Sequential([l0, l1, l2])\n",
    "model.compile(loss='mean_squared_error', optimizer=tf.keras.optimizers.Adam(0.1))\n",
    "model.fit(c, f, epochs=500, verbose=False)\n",
    "print(\"Finished training the model\")\n",
    "print(model.predict([100.0]))\n",
    "print(\"Model predicts that 100 degrees Celsius is: {} degrees Fahrenheit\".format(model.predict([100.0])))\n",
    "print(\"These are the l0 variables: {}\".format(l0.get_weights()))\n",
    "print(\"These are the l1 variables: {}\".format(l1.get_weights()))\n",
    "print(\"These are the l2 variables: {}\".format(l2.get_weights()))"
   ]
  },
  {
   "cell_type": "code",
   "execution_count": null,
   "metadata": {},
   "outputs": [],
   "source": []
  }
 ],
 "metadata": {
  "kernelspec": {
   "display_name": "Python 3.8.3 64-bit",
   "language": "python",
   "name": "python38364bite0f8ecdafed847e291d49c26b033d9f9"
  },
  "language_info": {
   "codemirror_mode": {
    "name": "ipython",
    "version": 3
   },
   "file_extension": ".py",
   "mimetype": "text/x-python",
   "name": "python",
   "nbconvert_exporter": "python",
   "pygments_lexer": "ipython3",
   "version": "3.8.3"
  }
 },
 "nbformat": 4,
 "nbformat_minor": 4
}
